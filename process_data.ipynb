{
 "cells": [
  {
   "cell_type": "code",
   "execution_count": 1,
   "id": "373cad6b-8387-49ba-9008-634f696bf341",
   "metadata": {},
   "outputs": [],
   "source": [
    "%config Completer.use_jedi = False"
   ]
  },
  {
   "cell_type": "code",
   "execution_count": 12,
   "id": "0a85f8a7-0172-4391-9ad5-b9a1e0130421",
   "metadata": {},
   "outputs": [],
   "source": [
    "import pandas as pd\n",
    "import numpy as np\n",
    "\n",
    "import matplotlib.pyplot as plt\n",
    "\n",
    "# from HKPCoherence import HKPCoherence\n",
    "\n",
    "# import mdfreader\n"
   ]
  },
  {
   "cell_type": "code",
   "execution_count": 4,
   "id": "2f811f32-3d12-40a0-940b-f2ca94ecc782",
   "metadata": {},
   "outputs": [],
   "source": [
    "def cut_txt_file(input_file, output_file,n):\n",
    "    # funcntion for cutting first n lines of a text file\n",
    "    # first n lines written into a specified output file for later use\n",
    "    with open(input_file,\"r\") as original_file, open(output_file,\"w\") as cut_file:\n",
    "        head = [next(original_file) for x in range(n)]\n",
    "        for line in head:\n",
    "            cut_file.write(line)\n",
    "        \n",
    "        "
   ]
  },
  {
   "cell_type": "code",
   "execution_count": 5,
   "id": "7453ec41-0da9-4227-b396-74d3c3a980fd",
   "metadata": {},
   "outputs": [],
   "source": [
    "def find_unique_items(input_file):\n",
    "    with open(input_file, \"r\") as file:\n",
    "        lines = file.read()\n",
    "        unique_items = set(lines.split())\n",
    "    \n",
    "        return unique_items\n",
    "        \n",
    "\n",
    "# print(unique_items)\n"
   ]
  },
  {
   "cell_type": "code",
   "execution_count": 31,
   "id": "e63fb9e3-27dc-4887-b2c7-4f291a7e90e7",
   "metadata": {},
   "outputs": [
    {
     "name": "stdout",
     "output_type": "stream",
     "text": [
      "private: 10\n",
      "public: 911\n"
     ]
    }
   ],
   "source": []
  },
  {
   "cell_type": "code",
   "execution_count": null,
   "id": "3a23a06e-9729-49dd-ad84-284d4deca113",
   "metadata": {},
   "outputs": [],
   "source": [
    "# \n",
    "# p: we measure the “power” of the attacker by the\n",
    "\n",
    "\"\"\"\n",
    "    A database D has \"(h,k,p)-coherence\" if, for every such combination β of no more than p\n",
    "    public items, either no transaction contains β, or the set of\n",
    "    transactions containing β, called β-cohort, contains at least k\n",
    "    transactions and no more than h percent of these transactions\n",
    "    contains a common private item.\n",
    "\n",
    "    U: universe, public + private items\n",
    "    \n",
    "    D: database\n",
    "    \n",
    "    p: maximum number p of public items that can be obtained as prior\n",
    "        knowledge in a single attack, and measure the level of protection\n",
    "        relative to that power of attackers\n",
    "        \n",
    "    beta: combination of puclic items no more than \"p\"\n",
    "    \n",
    "    beta_cohort: set of transactions containing \"beta\". β-cohort requires its transactions to contain all the\n",
    "                items in β, but not necessarily contain items not in β\n",
    "                \n",
    "    Sup(beta): Sup(β), the support of β, denotes the number of transactions in β-cohort.\n",
    "    \n",
    "    k,h: \"beta_cohort\" contains at least \"k\" transactions and no more than \"h\" percent of these transactions\n",
    "        contains a common private item.\n",
    "        \n",
    "    **The probability that a transaction contains e, given that it contains β, is\n",
    "            P(β→e)=Sup(β∪{e})/Sup(β).\n",
    "            \n",
    "    P_breach(beta): is the breach probability of beta, to be the maximmum P(beta->e) for any private item e.\n",
    "                    (we consider only a single private item e in an attack β→e.)\n",
    "        \n",
    " \n",
    "    In other words, (h,k,p)-coherence ensures that, for an attacker with the power p, the\n",
    "    probability of linking an individual to a transaction is limited to\n",
    "    1/k and the probability of linking an individual to a private item is\n",
    "    limited to h.\n",
    "    \n",
    "    equivalence_class: A group of records that are indistinguishable from each other is often \n",
    "                        referred to as an equivalence class.\n",
    "    \n",
    "                        After anonymization, quasi-identifier values of several records are equal, \n",
    "                        thus form- ing an equivalence class. In this way, an individual would not be \n",
    "                        easily identified because the attacker obtains only the equivalence class without \n",
    "                        additional knowledge [2].\n",
    "        \n",
    "    \n",
    "    information_loss: We measure \"information loss\" by the amount of items suppressed.\n",
    "                    the total information loss in the transformation, where ∑ is over\n",
    "                    all the items e suppressed.\n",
    "                        \n",
    "    \n",
    "    item_suppression: by suppressing an item from D, we simply delete the item fromm all transactions that\n",
    "                        contain the item. \n",
    "                        EXAMPLE:\n",
    "                            After suppressing the items a\n",
    "                            and f from the transactions {a, b, HIV}, {a, d, f, HIV} and {b, d,\n",
    "                            Diabetes}, the transactions become {b, HIV}, {d, HIV} and {b, d,\n",
    "                            diabetes}.\n",
    "    \n",
    "    \n",
    "    \n",
    "    ########- COHERENCE -########\n",
    "    \n",
    "    beta is a pub itemset with len(beta) <= p and Sup(beta)>0\n",
    "    \n",
    "    mole: beta is called a \"mole\" wrt (h,k,p), if either;\n",
    "        Sup(beta)<k or P_breach(beta)>h. Otherwise, beta is called \"non-mole\"\n",
    "        D is (h,k,p)-coherent if D contains no moles\n",
    "        \n",
    "    \n",
    "    ########- ITEM SUPPRESSION/INFORMATION LOSS -########\n",
    "    We will modify D until its hkp-coherent.\n",
    "    \n",
    "    \n",
    "    ########- PROBLEM -########\n",
    "    Making the database D hkp-coherent is an optimization problem because one version of D' may lead to a lower \n",
    "    information_loss than the other versions of D', D'' etc.\n",
    "    \n",
    "    We will assume D has a hkp-cohesion and use a greedy algorithm\n",
    "    \n",
    "    ########- PROBLEM -########\n",
    "\n",
    "\"\"\""
   ]
  },
  {
   "cell_type": "code",
   "execution_count": 8,
   "id": "ca94fdec-b6ca-482a-ab65-ce9f03f5fee6",
   "metadata": {},
   "outputs": [
    {
     "data": {
      "text/plain": [
       "'\\n    What we wanna achieve: We show that an optimal solution is NP-hard and\\n                            focus on finding a local optimal solution. The challenge is\\n                            eliminating all damaging prior knowledge from the database, i.e.,\\n                            all subsets β of public items, |β|≤p, that violate (h,k,p)-coherence.\\n                            For example, with p=4 and 1000 public items, the number of such\\n                            subsets β can be as large as 1000 4 and enumerating all is not an\\n                            option. We propose an efficient algorithm to eliminate such prior\\n                            knowledge from the database.\\n    -randomly choose the private items on a given database like in CAHD\\n'"
      ]
     },
     "execution_count": 8,
     "metadata": {},
     "output_type": "execute_result"
    }
   ],
   "source": [
    "\"\"\"\n",
    "    What we wanna achieve: We show that an optimal solution is NP-hard and\n",
    "                            focus on finding a local optimal solution. The challenge is\n",
    "                            eliminating all damaging prior knowledge from the database, i.e.,\n",
    "                            all subsets β of public items, |β|≤p, that violate (h,k,p)-coherence.\n",
    "                            For example, with p=4 and 1000 public items, the number of such\n",
    "                            subsets β can be as large as 1000 4 and enumerating all is not an\n",
    "                            option. We propose an efficient algorithm to eliminate such prior\n",
    "                            knowledge from the database.\n",
    "    -randomly choose the private items on a given database like in CAHD\n",
    "\"\"\""
   ]
  },
  {
   "cell_type": "code",
   "execution_count": 11,
   "id": "70cc8b3f-ddaf-4efe-9dc8-9f04f7751a0d",
   "metadata": {},
   "outputs": [
    {
     "data": {
      "text/plain": [
       "Int64Index([  0,   1,   2,   3,   4,   5,   6,   7,   8,   9,\n",
       "            ...\n",
       "            487, 488, 489, 490, 491, 492, 493, 494, 495, 496],\n",
       "           dtype='int64', length=497)"
      ]
     },
     "execution_count": 11,
     "metadata": {},
     "output_type": "execute_result"
    }
   ],
   "source": []
  },
  {
   "cell_type": "code",
   "execution_count": 6,
   "id": "d8d74ef6-588c-49c2-87bb-dae33f67c57d",
   "metadata": {},
   "outputs": [
    {
     "name": "stdout",
     "output_type": "stream",
     "text": [
      "private: 10\n",
      "public: 911\n"
     ]
    }
   ],
   "source": [
    "# find unique items to randomly choose the private items among them\n",
    "unique_items = find_unique_items(\"./Dataset/T40I10D100K_1000.txt\")\n",
    "unique_items = [int(i) for i in unique_items]\n",
    "\n",
    "# randomly choose private items\n",
    "# dataset = \n",
    "np.random.seed(42)\n",
    "private_items = np.random.choice(unique_items, replace=False, size=10)\n",
    "public_items = [i for i in unique_items if i not in private_items]\n",
    "print(f\"private: {len(private_items)}\\npublic: {len(public_items)}\")\n"
   ]
  },
  {
   "cell_type": "code",
   "execution_count": 7,
   "id": "1634f0e4-2dd1-47a7-9197-36a88b1acefb",
   "metadata": {},
   "outputs": [
    {
     "name": "stdout",
     "output_type": "stream",
     "text": [
      "[343, 450, 358, 489, 115, 69, 577, 908, 722, 862, 581, 886, 705, 278, 960, 977, 36, 923, 682, 368, 832, 932, 226, 370, 583, 494, 610, 692, 345, 401, 573]\n",
      "\n",
      "[572, 51, 117, 229, 78, 501, 576, 888, 812, 575, 982, 424, 175, 797, 266, 956, 429, 871, 381, 55, 688, 304, 538, 735, 413, 529, 523, 854, 826, 187, 8, 675, 843, 295, 676, 366, 593, 893, 73, 140, 758, 512, 868, 823, 785]\n",
      "\n",
      "[992, 572, 526, 450, 424, 666, 797, 332, 98, 430, 956, 480, 809, 55, 672, 820, 701, 402, 943, 569, 538, 412, 413, 952, 598, 826, 192, 694, 159, 322, 571, 897, 928, 904, 53]\n",
      "\n",
      "[48, 885, 294, 414, 850, 950, 871, 320, 525, 335, 529, 203, 922, 279, 509, 227, 984, 928, 359, 780, 205, 814]\n",
      "\n",
      "[146, 749, 625, 790, 528, 220, 883, 982, 947, 978, 601, 763, 120, 217, 256, 378, 912, 720, 58, 820, 918, 498, 69, 538, 934, 470, 462, 658, 487, 334, 244, 795, 919, 800, 941, 82, 73, 935, 178, 868, 166, 357]\n",
      "\n"
     ]
    }
   ],
   "source": [
    "DATA_PATH = \"./Dataset/T40I10D100K_1000.txt\"\n",
    "dataset = []\n",
    "with open(DATA_PATH,\"r\") as file:\n",
    "    for line in file:\n",
    "        dataset.append([int(i) for i in set(line.rstrip().split())])\n",
    "\n",
    "# print(dataset[:5])\n",
    "for i in dataset[:5]:\n",
    "    print(f\"{i}\\n\")"
   ]
  },
  {
   "cell_type": "code",
   "execution_count": 13,
   "id": "8e94b37f-1185-446f-9f43-07987b91a2d8",
   "metadata": {},
   "outputs": [],
   "source": [
    "'''\n",
    "    #######- GREEDY ALGORITHM -#######\n",
    "    A public item must be suppressed, if the item on ITS OWN IS A MOLE.\n",
    "        If a public item is a (size-1) mole, the item will\n",
    "        not occur in any (h,k,p)-cohesion of D, thus, can be suppressed in\n",
    "        a preprocessing step\n",
    "\n",
    "\n",
    "'''\n",
    "\n",
    "\n",
    "# this can be an inner class of hkp coherence\n",
    "class Transaction:\n",
    "    # tag the private and pub items of each transaction in data\n",
    "    def __init__(self, ID: int, public: list, private: list):\n",
    "        self.ID = ID\n",
    "        self.public = public\n",
    "        self.private = private\n",
    "\n",
    "\n",
    "class HKPCoherence:\n",
    "    # TODO: should I save the suppressed items into a global variable\n",
    "    def __init__(self, dataset: list, public_item_list: list, private_item_list: list, h: float, k: int, p: int):\n",
    "        \"\"\"\n",
    "\n",
    "        :param dataset: The list of transactions\n",
    "        :param public_item_list: Public items of the dataset\n",
    "        :param private_item_list: Private items of the dataset\n",
    "        :param h: The percentage of the transactions in beta-cohort that contain a common private item\n",
    "        :param k: The least number of transactions that should be contained in the beta-cohort\n",
    "        :param p: The maximum number of public items that can be obtained as prior knowledge in a single attack\n",
    "        \"\"\"\n",
    "        # includes all private and public items\n",
    "        self.dataset = dataset\n",
    "        self.public_item_list = public_item_list  # list of public items among all data\n",
    "        self.private_item_list = private_item_list  # list of priv items among all data\n",
    "        self.h = h\n",
    "        self.k = k\n",
    "        self.p = p\n",
    "        self.transactions = list()\n",
    "        for index, row in enumerate(self.dataset):\n",
    "            # TODO:\n",
    "            public = [i for i in row if i not in private_item_list]\n",
    "            private = [i for i in row if i in private_item_list]\n",
    "            self.transactions.append(Transaction(index, public, private))\n",
    "\n",
    "    def Sup(self, beta) -> int:\n",
    "        \"\"\"\n",
    "        Returns the number of transactions in beta-cohort\n",
    "\n",
    "        :param beta: Combination(subset) of public items no more than \"p\"\n",
    "        :return: Sup(beta), a.k.a. k\n",
    "        \"\"\"\n",
    "        k = 0\n",
    "        # t means transaction, which is any single row of the dataset\n",
    "        for t in self.transactions:\n",
    "            if set(t.public).issuperset(beta):\n",
    "                k += 1\n",
    "        return k\n",
    "\n",
    "    def p_breach(self, beta, private_item, k) -> float:\n",
    "        \"\"\"\n",
    "        P(β→e)=Sup(β∪{e})/Sup(β)\n",
    "        The probability that a transaction contains e, given that it contains β\n",
    "\n",
    "        :param beta: Combination of public items no more than \"p\"\n",
    "        :param private_item: A single private item\n",
    "        :param k: Sup(beta) a.k.a number of transactions in beta-cohort\n",
    "        :return: Breach probability of beta\n",
    "        \"\"\"\n",
    "        temp_beta = beta.copy()\n",
    "        temp_beta.append(private_item)\n",
    "        return self.Sup(temp_beta) / k\n",
    "\n",
    "    def is_mole(self, beta) -> bool:\n",
    "        \"\"\"\n",
    "\n",
    "        :param beta: Combination(subset) of public items no more than \"p\"\n",
    "        :return:\n",
    "        \"\"\"\n",
    "\n",
    "        k = self.Sup(beta)\n",
    "\n",
    "        if k == 0:\n",
    "            return False\n",
    "        # TODO: decide if using < or <= makes more sense\n",
    "        if k < self.k:\n",
    "            return True\n",
    "        for e in self.private_item_list:\n",
    "            if self.p_breach(beta, e, k) > self.h:\n",
    "                return True\n",
    "        return False\n",
    "\n",
    "    def suppress_size1_moles(self):\n",
    "        \"\"\"\n",
    "        # suppress all the public items that are size-1 moles\n",
    "        :return:\n",
    "        \"\"\"\n",
    "        removed_items = list()\n",
    "        for e in self.public_item_list:\n",
    "\n",
    "            if self.is_mole([e]):\n",
    "                # delete item e from all transactions\n",
    "                removed_items.append(e)\n",
    "                for t in self.transactions:\n",
    "                    if e in t.public:\n",
    "                        t.public.remove(e)\n",
    "                    # try:\n",
    "                    #     t.public.remove(e)\n",
    "                    # except ValueError:\n",
    "                    #     continue\n",
    "        print(f\"Suppressed {len(removed_items)} size-1 mole public items.\")"
   ]
  },
  {
   "cell_type": "code",
   "execution_count": 14,
   "id": "98049482-0191-462e-81e1-705c96097b37",
   "metadata": {},
   "outputs": [],
   "source": [
    "\n",
    "\n",
    "hkp = HKPCoherence(dataset, public_items, private_items, h=0.4,k=5,p=5)"
   ]
  },
  {
   "cell_type": "code",
   "execution_count": 15,
   "id": "b79d5fe0-d528-4941-aa8a-117f39596035",
   "metadata": {},
   "outputs": [
    {
     "data": {
      "text/plain": [
       "[]"
      ]
     },
     "execution_count": 15,
     "metadata": {},
     "output_type": "execute_result"
    }
   ],
   "source": [
    "hkp.transactions[5].private"
   ]
  },
  {
   "cell_type": "code",
   "execution_count": 16,
   "id": "ef89ecf3-8a7e-4edf-9aba-379886f99ca4",
   "metadata": {},
   "outputs": [
    {
     "name": "stdout",
     "output_type": "stream",
     "text": [
      "Suppressed 79 size-1 mole public items.\n"
     ]
    }
   ],
   "source": [
    "hkp.suppress_size1_moles()"
   ]
  },
  {
   "cell_type": "code",
   "execution_count": null,
   "id": "73a99a77-13d5-4d5b-8924-a1af756919b2",
   "metadata": {},
   "outputs": [],
   "source": [
    "\n",
    "    "
   ]
  }
 ],
 "metadata": {
  "kernelspec": {
   "display_name": "base",
   "language": "python",
   "name": "base"
  },
  "language_info": {
   "codemirror_mode": {
    "name": "ipython",
    "version": 3
   },
   "file_extension": ".py",
   "mimetype": "text/x-python",
   "name": "python",
   "nbconvert_exporter": "python",
   "pygments_lexer": "ipython3",
   "version": "3.8.10"
  }
 },
 "nbformat": 4,
 "nbformat_minor": 5
}
