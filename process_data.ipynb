{
 "cells": [
  {
   "cell_type": "code",
   "execution_count": 1,
   "id": "373cad6b-8387-49ba-9008-634f696bf341",
   "metadata": {},
   "outputs": [],
   "source": [
    "# %config Completer.use_jedi = False"
   ]
  },
  {
   "cell_type": "code",
   "execution_count": 2,
   "id": "0a85f8a7-0172-4391-9ad5-b9a1e0130421",
   "metadata": {},
   "outputs": [],
   "source": [
    "import pandas as pd\n",
    "import numpy as np\n",
    "\n",
    "import matplotlib.pyplot as plt\n",
    "\n",
    "# from HKPCoherence import HKPCoherence\n",
    "\n",
    "# import mdfreader\n"
   ]
  },
  {
   "cell_type": "code",
   "execution_count": 4,
   "id": "2f811f32-3d12-40a0-940b-f2ca94ecc782",
   "metadata": {},
   "outputs": [],
   "source": [
    "def cut_txt_file(input_file, output_file,n):\n",
    "    # funcntion for cutting first n lines of a text file\n",
    "    # first n lines written into a specified output file for later use\n",
    "    with open(input_file,\"r\") as original_file, open(output_file,\"w\") as cut_file:\n",
    "        head = [next(original_file) for x in range(n)]\n",
    "        for line in head:\n",
    "            cut_file.write(line)\n",
    "\n"
   ]
  },
  {
   "cell_type": "code",
   "execution_count": 5,
   "outputs": [],
   "source": [
    "cut_txt_file(\"./Dataset/T40I10D100K.dat\", \"./Dataset/T40I10D100K_5000.txt\", 5000)"
   ],
   "metadata": {
    "collapsed": false
   }
  },
  {
   "cell_type": "code",
   "execution_count": 4,
   "id": "7453ec41-0da9-4227-b396-74d3c3a980fd",
   "metadata": {},
   "outputs": [],
   "source": [
    "def find_unique_items(input_file):\n",
    "    with open(input_file, \"r\") as file:\n",
    "        lines = file.read()\n",
    "        unique_items = set(lines.split())\n",
    "    \n",
    "        return unique_items\n",
    "        \n",
    "\n",
    "# print(unique_items)\n"
   ]
  },
  {
   "cell_type": "code",
   "execution_count": 31,
   "id": "e63fb9e3-27dc-4887-b2c7-4f291a7e90e7",
   "metadata": {},
   "outputs": [
    {
     "name": "stdout",
     "output_type": "stream",
     "text": [
      "private: 10\n",
      "public: 911\n"
     ]
    }
   ],
   "source": []
  },
  {
   "cell_type": "code",
   "execution_count": null,
   "id": "3a23a06e-9729-49dd-ad84-284d4deca113",
   "metadata": {},
   "outputs": [],
   "source": [
    "# \n",
    "# p: we measure the “power” of the attacker by the\n",
    "\n",
    "\"\"\"\n",
    "    A database D has \"(h,k,p)-coherence\" if, for every such combination β of no more than p\n",
    "    public items, either no transaction contains β, or the set of\n",
    "    transactions containing β, called β-cohort, contains at least k\n",
    "    transactions and no more than h percent of these transactions\n",
    "    contains a common private item.\n",
    "\n",
    "    U: universe, public + private items\n",
    "    \n",
    "    D: database\n",
    "    \n",
    "    p: maximum number p of public items that can be obtained as prior\n",
    "        knowledge in a single attack, and measure the level of protection\n",
    "        relative to that power of attackers\n",
    "        \n",
    "    beta: combination of puclic items no more than \"p\"\n",
    "    \n",
    "    beta_cohort: set of transactions containing \"beta\". β-cohort requires its transactions to contain all the\n",
    "                items in β, but not necessarily contain items not in β\n",
    "                \n",
    "    Sup(beta): Sup(β), the support of β, denotes the number of transactions in β-cohort.\n",
    "    \n",
    "    k,h: \"beta_cohort\" contains at least \"k\" transactions and no more than \"h\" percent of these transactions\n",
    "        contains a common private item.\n",
    "        \n",
    "    **The probability that a transaction contains e, given that it contains β, is\n",
    "            P(β→e)=Sup(β∪{e})/Sup(β).\n",
    "            \n",
    "    P_breach(beta): is the breach probability of beta, to be the maximmum P(beta->e) for any private item e.\n",
    "                    (we consider only a single private item e in an attack β→e.)\n",
    "        \n",
    " \n",
    "    In other words, (h,k,p)-coherence ensures that, for an attacker with the power p, the\n",
    "    probability of linking an individual to a transaction is limited to\n",
    "    1/k and the probability of linking an individual to a private item is\n",
    "    limited to h.\n",
    "    \n",
    "    equivalence_class: A group of records that are indistinguishable from each other is often \n",
    "                        referred to as an equivalence class.\n",
    "    \n",
    "                        After anonymization, quasi-identifier values of several records are equal, \n",
    "                        thus form- ing an equivalence class. In this way, an individual would not be \n",
    "                        easily identified because the attacker obtains only the equivalence class without \n",
    "                        additional knowledge [2].\n",
    "        \n",
    "    \n",
    "    information_loss: We measure \"information loss\" by the amount of items suppressed.\n",
    "                    the total information loss in the transformation, where ∑ is over\n",
    "                    all the items e suppressed.\n",
    "                        \n",
    "    \n",
    "    item_suppression: by suppressing an item from D, we simply delete the item fromm all transactions that\n",
    "                        contain the item. \n",
    "                        EXAMPLE:\n",
    "                            After suppressing the items a\n",
    "                            and f from the transactions {a, b, HIV}, {a, d, f, HIV} and {b, d,\n",
    "                            Diabetes}, the transactions become {b, HIV}, {d, HIV} and {b, d,\n",
    "                            diabetes}.\n",
    "                            \n",
    "    \n",
    "    \n",
    "    beta is a pub itemset with len(beta) <= p and Sup(beta)>0\n",
    "    \n",
    "    mole: beta is called a \"mole\" wrt (h,k,p), if either;\n",
    "        Sup(beta)<k or P_breach(beta)>h. Otherwise, beta is called \"non-mole\"\n",
    "        D is (h,k,p)-coherent if D contains no moles\n",
    "        \n",
    "    Minimal Mole: A mole is called minimal, if its subsets are non-moles. Example ab is a minimal mole if subsets a and b are non-moles.\n",
    "                            \n",
    "    MM(e): denotes the number of minimal moles containing the public item e\n",
    "    \n",
    "    Mi: denotes the set of all minimal moles of size i\n",
    "    \n",
    "    Fi: denotes the set of all extendible non-moles\n",
    "    \n",
    "    Extendible non-mole: A non-mole is said to be extendible if it contains no mole.\n",
    "    \n",
    "    M*: denotes the set of all minimal moles of size (2 <= i <= p)\n",
    "    \n",
    "    ########- ITEM SUPPRESSION/INFORMATION LOSS -########\n",
    "    We will modify D until its hkp-coherent.\n",
    "    \n",
    "    \n",
    "    ########- PROBLEM -########\n",
    "    Making the database D hkp-coherent is an optimization problem because one version of D' may lead to a lower \n",
    "    information_loss than the other versions of D', D'' etc.\n",
    "    \n",
    "    We will assume D has a hkp-cohesion and use a greedy algorithm\n",
    "    \n",
    "    ########- PROBLEM -########\n",
    "\n",
    "\"\"\""
   ]
  },
  {
   "cell_type": "code",
   "execution_count": 8,
   "id": "ca94fdec-b6ca-482a-ab65-ce9f03f5fee6",
   "metadata": {},
   "outputs": [
    {
     "data": {
      "text/plain": [
       "'\\n    What we wanna achieve: We show that an optimal solution is NP-hard and\\n                            focus on finding a local optimal solution. The challenge is\\n                            eliminating all damaging prior knowledge from the database, i.e.,\\n                            all subsets β of public items, |β|≤p, that violate (h,k,p)-coherence.\\n                            For example, with p=4 and 1000 public items, the number of such\\n                            subsets β can be as large as 1000 4 and enumerating all is not an\\n                            option. We propose an efficient algorithm to eliminate such prior\\n                            knowledge from the database.\\n    -randomly choose the private items on a given database like in CAHD\\n'"
      ]
     },
     "execution_count": 8,
     "metadata": {},
     "output_type": "execute_result"
    }
   ],
   "source": [
    "\"\"\"\n",
    "    What we wanna achieve: We show that an optimal solution is NP-hard and\n",
    "                            focus on finding a local optimal solution. The challenge is\n",
    "                            eliminating all damaging prior knowledge from the database, i.e.,\n",
    "                            all subsets β of public items, |β|≤p, that violate (h,k,p)-coherence.\n",
    "                            For example, with p=4 and 1000 public items, the number of such\n",
    "                            subsets β can be as large as 1000 4 and enumerating all is not an\n",
    "                            option. We propose an efficient algorithm to eliminate such prior\n",
    "                            knowledge from the database.\n",
    "    -randomly choose the private items on a given database like in CAHD\n",
    "\"\"\""
   ]
  },
  {
   "cell_type": "code",
   "execution_count": 11,
   "id": "70cc8b3f-ddaf-4efe-9dc8-9f04f7751a0d",
   "metadata": {},
   "outputs": [
    {
     "data": {
      "text/plain": [
       "Int64Index([  0,   1,   2,   3,   4,   5,   6,   7,   8,   9,\n",
       "            ...\n",
       "            487, 488, 489, 490, 491, 492, 493, 494, 495, 496],\n",
       "           dtype='int64', length=497)"
      ]
     },
     "execution_count": 11,
     "metadata": {},
     "output_type": "execute_result"
    }
   ],
   "source": []
  },
  {
   "cell_type": "code",
   "execution_count": 6,
   "id": "d8d74ef6-588c-49c2-87bb-dae33f67c57d",
   "metadata": {},
   "outputs": [
    {
     "name": "stdout",
     "output_type": "stream",
     "text": [
      "private: 10\n",
      "public: 911\n"
     ]
    }
   ],
   "source": [
    "# find unique items to randomly choose the private items among them\n",
    "unique_items = find_unique_items(\"./Dataset/T40I10D100K_1000.txt\")\n",
    "unique_items = [int(i) for i in unique_items]\n",
    "\n",
    "# randomly choose private items\n",
    "# dataset = \n",
    "np.random.seed(42)\n",
    "private_items = np.random.choice(unique_items, replace=False, size=10)\n",
    "public_items = [i for i in unique_items if i not in private_items]\n",
    "print(f\"private: {len(private_items)}\\npublic: {len(public_items)}\")\n"
   ]
  },
  {
   "cell_type": "code",
   "execution_count": 7,
   "id": "1634f0e4-2dd1-47a7-9197-36a88b1acefb",
   "metadata": {},
   "outputs": [
    {
     "name": "stdout",
     "output_type": "stream",
     "text": [
      "[36, 908, 115, 370, 977, 368, 494, 401, 581, 832, 345, 358, 682, 583, 573, 69, 722, 692, 489, 278, 886, 577, 705, 343, 923, 450, 610, 932, 862, 960, 226]\n",
      "\n",
      "[51, 187, 688, 758, 593, 429, 117, 529, 982, 572, 576, 871, 826, 735, 73, 676, 140, 266, 797, 413, 538, 175, 501, 304, 785, 512, 366, 424, 675, 381, 78, 854, 575, 956, 868, 843, 812, 823, 295, 893, 888, 55, 8, 523, 229]\n",
      "\n",
      "[192, 480, 992, 701, 904, 943, 571, 572, 826, 928, 820, 526, 952, 322, 569, 897, 159, 797, 672, 694, 413, 538, 53, 424, 332, 809, 430, 402, 98, 956, 450, 412, 666, 598, 55]\n",
      "\n",
      "[203, 509, 320, 529, 279, 871, 294, 928, 227, 950, 359, 525, 205, 850, 885, 48, 922, 984, 780, 335, 414, 814]\n",
      "\n",
      "[941, 82, 947, 749, 357, 498, 470, 146, 982, 220, 178, 912, 763, 217, 820, 73, 69, 935, 790, 528, 244, 166, 883, 538, 919, 487, 720, 625, 800, 795, 658, 120, 58, 256, 378, 868, 462, 918, 601, 334, 934, 978]\n",
      "\n"
     ]
    }
   ],
   "source": [
    "DATA_PATH = \"./Dataset/T40I10D100K_1000.txt\"\n",
    "dataset = []\n",
    "with open(DATA_PATH,\"r\") as file:\n",
    "    for line in file:\n",
    "        dataset.append([int(i) for i in set(line.rstrip().split())])\n",
    "\n",
    "# print(dataset[:5])\n",
    "for i in dataset[:5]:\n",
    "    print(f\"{i}\\n\")"
   ]
  },
  {
   "cell_type": "code",
   "execution_count": 22,
   "id": "8e94b37f-1185-446f-9f43-07987b91a2d8",
   "metadata": {},
   "outputs": [],
   "source": [
    "'''\n",
    "    #######- GREEDY ALGORITHM -#######\n",
    "    A public item must be suppressed, if the item on ITS OWN IS A MOLE.\n",
    "        If a public item is a (size-1) mole, the item will\n",
    "        not occur in any (h,k,p)-cohesion of D, thus, can be suppressed in\n",
    "        a preprocessing step\n",
    "\n",
    "\n",
    "'''\n",
    "\n",
    "\n",
    "# this can be an inner class of hkp coherence\n",
    "class Transaction:\n",
    "    # tag the private and pub items of each transaction in data\n",
    "    def __init__(self, ID: int, public: list, private: list):\n",
    "        self.ID = ID\n",
    "        self.public = public\n",
    "        self.private = private\n",
    "\n",
    "\n",
    "class HKPCoherence:\n",
    "    # TODO: should I save the suppressed items into a global variable\n",
    "    def __init__(self, dataset: list, public_item_list: list, private_item_list: list, h: float, k: int, p: int):\n",
    "        \"\"\"\n",
    "\n",
    "        :param dataset: The list of transactions\n",
    "        :param public_item_list: Public items of the dataset\n",
    "        :param private_item_list: Private items of the dataset\n",
    "        :param h: The percentage of the transactions in beta-cohort that contain a common private item\n",
    "        :param k: The least number of transactions that should be contained in the beta-cohort\n",
    "        :param p: The maximum number of public items that can be obtained as prior knowledge in a single attack\n",
    "        \"\"\"\n",
    "        # includes all private and public items\n",
    "        self.dataset = dataset\n",
    "        self.public_item_list = public_item_list  # list of public items among all data\n",
    "        self.private_item_list = private_item_list  # list of priv items among all data\n",
    "        self.h = h\n",
    "        self.k = k\n",
    "        self.p = p\n",
    "        self.transactions = list()\n",
    "        self.size1_moles = list()\n",
    "        for index, row in enumerate(self.dataset):\n",
    "            # TODO:\n",
    "            public = [i for i in row if i not in private_item_list]\n",
    "            private = [i for i in row if i in private_item_list]\n",
    "            self.transactions.append(Transaction(index, public, private))\n",
    "\n",
    "    def Sup(self, beta) -> int:\n",
    "        \"\"\"\n",
    "        Returns the number of transactions in beta-cohort\n",
    "\n",
    "        :param beta: Combination(subset) of public items no more than \"p\"\n",
    "        :return: Sup(beta), a.k.a. k\n",
    "        \"\"\"\n",
    "        k = 0\n",
    "        # t means transaction, which is any single row of the dataset\n",
    "        for t in self.transactions:\n",
    "            if set(t.public).issuperset(beta):\n",
    "                k += 1\n",
    "        return k\n",
    "\n",
    "    def p_breach(self, beta, private_item, k) -> float:\n",
    "        \"\"\"\n",
    "        P(β→e)=Sup(β∪{e})/Sup(β)\n",
    "        The probability that a transaction contains e, given that it contains β\n",
    "\n",
    "        :param beta: Combination of public items no more than \"p\"\n",
    "        :param private_item: A single private item\n",
    "        :param k: Sup(beta) a.k.a number of transactions in beta-cohort\n",
    "        :return: Breach probability of beta\n",
    "        \"\"\"\n",
    "        temp_beta = beta.copy()\n",
    "        temp_beta.append(private_item)\n",
    "        return self.Sup(temp_beta) / k\n",
    "\n",
    "    def is_mole(self, beta) -> bool:\n",
    "        \"\"\"\n",
    "\n",
    "        :param beta: Combination(subset) of public items no more than \"p\"\n",
    "        :return:\n",
    "        \"\"\"\n",
    "\n",
    "        k = self.Sup(beta)\n",
    "\n",
    "        if k == 0:\n",
    "            return False\n",
    "        # TODO: decide if using < or <= makes more sense\n",
    "        if k < self.k:\n",
    "            return True\n",
    "        for e in self.private_item_list:\n",
    "            if self.p_breach(beta, e, k) > self.h:\n",
    "                return True\n",
    "        return False\n",
    "\n",
    "    def suppress_size1_moles(self):\n",
    "        \"\"\"\n",
    "        # suppress all the public items that are size-1 moles\n",
    "        :return: list of size1 moles (just in case I have use for them down the line)\n",
    "        \"\"\"\n",
    "        # size1_moles = list()\n",
    "        for e in self.public_item_list:\n",
    "\n",
    "            if self.is_mole([e]):\n",
    "                # delete item e from all transactions\n",
    "                self.size1_moles.append(e)\n",
    "                for t in self.transactions:\n",
    "                    if e in t.public:\n",
    "                        t.public.remove(e)\n",
    "                    # try:\n",
    "                    #     t.public.remove(e)\n",
    "                    # except ValueError:\n",
    "                    #     continue\n",
    "        print(f\"Suppressed {len(self.size1_moles)} size-1 mole public items.\")\n",
    "\n",
    "    # MM(e) is the number of minimal moles containing the item e\n",
    "    def find_minimal_moles(self):\n",
    "        \n",
    "        # C1 initial candidates\n",
    "        # M1 init minimal moles\n",
    "        # F1 init extendible non-moles\n",
    "        \n",
    "        C1 = [i for i in self.public_item_list if i not in self.size1_moles]\n",
    "        M1 = list()\n",
    "        F1 = list()\n",
    "        \n",
    "        \n",
    "        F = [F1]\n",
    "        M = [M1]\n",
    "        \n",
    "        for e in C1:\n",
    "            if self.is_mole([e]):\n",
    "                M1.append([e])\n",
    "            else:\n",
    "                F1.append([e])\n",
    "                \n",
    "        C = self.generate_C(F[0],M[0])\n",
    "        print(f\"C: {C}\")\n",
    "        \n",
    "        # i = 0\n",
    "        # while i < self.p and len(F[i]) > 0:\n",
    "        #     # generate Canditate set for Mi+1 and Fi+1\n",
    "        #     C = self.generate_C(F[i],M[i])\n",
    "        #     print(f\"C: {C}\")\n",
    "        #     break\n",
    "                \n",
    "        \n",
    "                \n",
    "        # print(f\"M1:{len(M1)}, F1:{len(F1)}\")\n",
    "        # return M1, F1\n",
    "\n",
    "    def generate_C(self, F, M):\n",
    "        # this is basically a list of betas \n",
    "        # for Fi and Fi+1 \n",
    "        '''\n",
    "        Every minimal mole in Mi+1 and every extendible\n",
    "        non-mole in Fi+1 has the form β=< e 1 , …,e i-1 , e i , e i+1 >, such that <\n",
    "        e 1 , …, e i-1 , e i > and < e 1 , …, e i-1 , e i+1 > are in F i , no i–subset of β is\n",
    "        in M i , and e i precedes e i+1 .\n",
    "        '''\n",
    "        C = list()\n",
    "        for i in range(len(F)):\n",
    "            for j in range(i + 1, len(F)):\n",
    "                if len(set(F[i]).symmetric_difference(set(F[j]))) == 2:\n",
    "                    new_F = list(F[i])\n",
    "                    new_F.extend(x for x in F[j] if x not in new_F)\n",
    "                    flag = False\n",
    "                    for m in M:\n",
    "                        if set(new_F).issuperset(m):\n",
    "                            flag = True\n",
    "                            break\n",
    "                    if not flag:\n",
    "                        C.append(new_F)\n",
    "        return C\n",
    "        \n",
    "    \n",
    "    def pipeline(self):\n",
    "        pass"
   ]
  },
  {
   "cell_type": "code",
   "execution_count": 23,
   "id": "98049482-0191-462e-81e1-705c96097b37",
   "metadata": {},
   "outputs": [],
   "source": [
    "\n",
    "\n",
    "hkp = HKPCoherence(dataset, public_items, private_items, h=0.4,k=5,p=5)"
   ]
  },
  {
   "cell_type": "code",
   "execution_count": 13,
   "id": "b79d5fe0-d528-4941-aa8a-117f39596035",
   "metadata": {},
   "outputs": [
    {
     "data": {
      "text/plain": [
       "[]"
      ]
     },
     "execution_count": 13,
     "metadata": {},
     "output_type": "execute_result"
    }
   ],
   "source": [
    "hkp.transactions[5].private"
   ]
  },
  {
   "cell_type": "code",
   "execution_count": 24,
   "id": "ef89ecf3-8a7e-4edf-9aba-379886f99ca4",
   "metadata": {},
   "outputs": [
    {
     "name": "stdout",
     "output_type": "stream",
     "text": [
      "Suppressed 78 size-1 mole public items.\n"
     ]
    }
   ],
   "source": [
    "hkp.suppress_size1_moles()\n",
    "# print(size1_moles)"
   ]
  },
  {
   "cell_type": "code",
   "execution_count": 25,
   "id": "73a99a77-13d5-4d5b-8924-a1af756919b2",
   "metadata": {},
   "outputs": [
    {
     "name": "stderr",
     "output_type": "stream",
     "text": [
      "IOPub data rate exceeded.\n",
      "The Jupyter server will temporarily stop sending output\n",
      "to the client in order to avoid crashing it.\n",
      "To change this limit, set the config variable\n",
      "`--ServerApp.iopub_data_rate_limit`.\n",
      "\n",
      "Current values:\n",
      "ServerApp.iopub_data_rate_limit=1000000.0 (bytes/sec)\n",
      "ServerApp.rate_limit_window=3.0 (secs)\n",
      "\n"
     ]
    }
   ],
   "source": [
    "hkp.find_minimal_moles()\n",
    "    "
   ]
  },
  {
   "cell_type": "code",
   "execution_count": 22,
   "id": "7950569a-22f6-423e-925e-36e7d41b3718",
   "metadata": {},
   "outputs": [
    {
     "name": "stdout",
     "output_type": "stream",
     "text": [
      "[[[334], [718], [842], [605], [219], [983], [60], [732], [960], [180], [479], [135], [627], [323], [715], [793], [843], [453], [10], [483], [634], [381], [45], [46], [43], [115], [913], [194], [580], [61], [967], [830], [330], [533], [807], [118], [598], [322], [489], [752], [774], [622], [369], [806], [838], [704], [394], [675], [241], [40], [175], [699], [615], [487], [872], [382], [134], [168], [240], [845], [741], [768], [59], [214], [965], [797], [292], [652], [69], [879], [431], [432], [523], [782], [459], [847], [364], [272], [525], [125], [80], [818], [956], [495], [346], [256], [117], [223], [549], [377], [54], [512], [75], [422], [576], [798], [5], [856], [991], [51], [142], [503], [23], [804], [701], [352], [611], [320], [143], [155], [448], [886], [71], [128], [763], [708], [828], [572], [625], [212], [591], [140], [358], [561], [742], [136], [419], [266], [788], [789], [354], [345], [72], [360], [179], [899], [550], [608], [107], [408], [585], [234], [350], [546], [971], [758], [349], [978], [639], [167], [623], [215], [545], [42], [97], [209], [183], [904], [571], [593], [683], [635], [120], [759], [308], [74], [58], [854], [937], [139], [473], [33], [919], [711], [147], [319], [896], [73], [297], [26], [102], [733], [624], [760], [739], [335], [375], [1], [347], [392], [494], [67], [597], [406], [442], [132], [311], [810], [7], [172], [86], [765], [450], [889], [362], [874], [863], [824], [126], [277], [606], [787], [949], [447], [159], [253], [871], [891], [695], [417], [530], [290], [41], [280], [498], [300], [273], [935], [108], [224], [834], [905], [17], [270], [527], [745], [144], [849], [367], [302], [785], [331], [411], [205], [373], [999], [517], [706], [95], [263], [449], [539], [590], [368], [384], [951], [544], [2], [492], [678], [535], [970], [694], [460], [85], [710], [771], [674], [857], [743], [279], [287], [812], [534], [610], [712], [945], [844], [526], [574], [887], [262], [592], [681], [548], [619], [925], [657], [22], [321], [688], [193], [32], [497], [554], [689], [520], [827], [567], [679], [55], [778], [633], [3], [243], [289], [145], [981], [356], [37], [823], [650], [182], [730], [421], [762], [307], [283], [186], [424], [570], [53], [371], [850], [930], [811], [893], [578], [998], [481], [430], [647], [698], [315], [355], [476], [687], [621], [979], [338], [959], [666], [178], [116], [831], [303], [152], [731], [516], [484], [208], [839], [326], [790], [21], [79], [870], [29], [162], [403], [231], [656], [682], [137], [298], [916], [78], [187], [418], [505], [613], [68], [156], [684], [915], [750], [895], [478], [975], [673], [859], [707], [531], [380], [16], [6], [154], [264], [8], [655], [213], [44], [225], [980], [24], [735], [141], [601], [723], [309], [104], [493], [281], [906], [773], [936], [903], [848], [82], [462], [472], [299], [158], [89], [947], [203], [427], [815], [809], [779], [192], [197], [387], [247], [680], [114], [259], [204], [274], [407], [902], [477], [867], [985], [49], [93], [894], [802], [423], [922], [173], [282], [177], [541], [342], [255], [881], [151], [943], [942], [814], [832], [441], [661], [513], [690], [897], [660], [632], [740], [950], [964], [121], [923], [181], [725], [537], [245], [900], [716], [161], [188], [604], [370], [14], [628], [717], [390], [934], [327], [169], [852], [697], [536], [111], [293], [34], [691], [467], [972], [405], [651], [440], [456], [64], [27], [764], [829], [931], [383], [36], [31], [783], [220], [379], [784], [176], [618], [989], [35], [244], [777], [461], [609], [230], [653], [522], [268], [412], [88], [658], [573], [577], [898], [328], [563], [258], [719], [160], [343], [278], [756], [961], [28], [853], [890], [98], [242], [835], [529], [401], [676], [454], [662], [941], [131], [912], [910], [820], [614], [216], [817], [428], [877], [275], [640], [738], [876], [122], [918], [558], [9], [612], [276], [81], [659], [174], [932], [397], [729], [296], [846], [642], [90], [855], [414], [435], [696], [385], [218], [465], [641], [568], [858], [48], [813], [395], [672], [600], [588], [222], [52], [511], [940], [865], [692], [257], [480], [648], [962], [868], [415], [686], [166], [630], [227], [261], [94], [496], [803], [944], [57], [920], [265], [631], [359], [464], [921], [409], [860], [560], [388], [638], [792], [685], [837], [466], [357], [288], [217], [775], [351], [851], [795], [914], [595], [210], [963], [841], [62], [616], [551], [376], [105], [474], [429], [112], [199], [185], [501], [509], [196], [973], [753], [892], [556], [713], [66], [329], [948], [410], [767], [372], [911], [801], [56], [722], [553], [882], [201], [316], [443], [317], [994], [318], [129], [724], [507], [800], [518], [77], [575], [984], [769], [437], [819], [226], [703], [96], [864], [939], [413], [229], [336], [254], [766], [565], [878], [528], [18], [982], [206], [471], [594], [749], [726], [202], [557], [514], [294], [457], [709], [603], [720], [995], [644], [540], [304], [933], [100], [909], [538], [306], [532], [869], [130], [19], [734], [127], [207], [165], [821], [946], [515], [190], [665], [617], [400], [482], [602], [888], [348], [586], [992], [146], [314], [500], [953], [468], [249], [12], [589], [620], [189], [885], [581], [579], [862], [438], [70], [840], [928], [366], [938], [958], [171], [670], [39], [486], [332], [504], [826], [11], [236], [246], [378], [883], [163], [333], [38], [198], [966], [399], [470], [463], [239], [138], [123], [374], [988], [805], [361], [157], [15], [295], [491], [469], [780], [901], [110], [671], [113], [25], [833], [458], [825], [490], [744], [757], [649], [521], [436], [252], [583], [285], [4], [926], [794], [510], [663], [968], [822], [751], [324], [746], [952], [170], [562], [736], [310], [402], [124], [997]]]\n"
     ]
    }
   ],
   "source": [
    "print([f1])"
   ]
  }
 ],
 "metadata": {
  "kernelspec": {
   "display_name": "base",
   "language": "python",
   "name": "base"
  },
  "language_info": {
   "codemirror_mode": {
    "name": "ipython",
    "version": 3
   },
   "file_extension": ".py",
   "mimetype": "text/x-python",
   "name": "python",
   "nbconvert_exporter": "python",
   "pygments_lexer": "ipython3",
   "version": "3.8.10"
  }
 },
 "nbformat": 4,
 "nbformat_minor": 5
}
